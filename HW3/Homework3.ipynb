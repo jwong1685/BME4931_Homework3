{
 "cells": [
  {
   "cell_type": "code",
   "execution_count": 1,
   "metadata": {
    "collapsed": true
   },
   "outputs": [],
   "source": [
    "#read the data file\n",
    "import csv as csv \n",
    "\n",
    "#import programs to plot the data\n",
    "import pandas as pd \n",
    "import seaborn as sns\n",
    "import matplotlib as mpl\n",
    "import matplotlib.pyplot as plt"
   ]
  },
  {
   "cell_type": "code",
   "execution_count": 2,
   "metadata": {
    "collapsed": false
   },
   "outputs": [],
   "source": [
    "%matplotlib inline\n",
    "dataset = pd.read_csv('HW3Data.csv', header = None, sep=',')"
   ]
  },
  {
   "cell_type": "code",
   "execution_count": 3,
   "metadata": {
    "collapsed": false
   },
   "outputs": [
    {
     "data": {
      "text/html": [
       "<div>\n",
       "<table border=\"1\" class=\"dataframe\">\n",
       "  <thead>\n",
       "    <tr style=\"text-align: right;\">\n",
       "      <th></th>\n",
       "      <th>0</th>\n",
       "      <th>1</th>\n",
       "      <th>2</th>\n",
       "      <th>3</th>\n",
       "      <th>4</th>\n",
       "      <th>5</th>\n",
       "      <th>6</th>\n",
       "      <th>7</th>\n",
       "      <th>8</th>\n",
       "      <th>9</th>\n",
       "      <th>...</th>\n",
       "      <th>1991</th>\n",
       "      <th>1992</th>\n",
       "      <th>1993</th>\n",
       "      <th>1994</th>\n",
       "      <th>1995</th>\n",
       "      <th>1996</th>\n",
       "      <th>1997</th>\n",
       "      <th>1998</th>\n",
       "      <th>1999</th>\n",
       "      <th>2000</th>\n",
       "    </tr>\n",
       "  </thead>\n",
       "  <tbody>\n",
       "    <tr>\n",
       "      <th>0</th>\n",
       "      <td>0</td>\n",
       "      <td>2.080754</td>\n",
       "      <td>1.099069</td>\n",
       "      <td>0.927763</td>\n",
       "      <td>1.029081</td>\n",
       "      <td>-0.130763</td>\n",
       "      <td>1.265460</td>\n",
       "      <td>-0.436286</td>\n",
       "      <td>0.728881</td>\n",
       "      <td>2.107979</td>\n",
       "      <td>...</td>\n",
       "      <td>-0.825403</td>\n",
       "      <td>-0.138451</td>\n",
       "      <td>0.382957</td>\n",
       "      <td>0.876697</td>\n",
       "      <td>-0.216234</td>\n",
       "      <td>-1.408300</td>\n",
       "      <td>0.393327</td>\n",
       "      <td>-0.148522</td>\n",
       "      <td>1.591533</td>\n",
       "      <td>-0.217481</td>\n",
       "    </tr>\n",
       "    <tr>\n",
       "      <th>1</th>\n",
       "      <td>1</td>\n",
       "      <td>1.109457</td>\n",
       "      <td>0.786453</td>\n",
       "      <td>0.445560</td>\n",
       "      <td>-0.146323</td>\n",
       "      <td>-0.996316</td>\n",
       "      <td>0.555759</td>\n",
       "      <td>0.290734</td>\n",
       "      <td>-0.145259</td>\n",
       "      <td>1.132660</td>\n",
       "      <td>...</td>\n",
       "      <td>-1.056288</td>\n",
       "      <td>-0.205499</td>\n",
       "      <td>-1.815374</td>\n",
       "      <td>0.324373</td>\n",
       "      <td>-1.296909</td>\n",
       "      <td>-0.870757</td>\n",
       "      <td>1.108739</td>\n",
       "      <td>1.094010</td>\n",
       "      <td>-0.492141</td>\n",
       "      <td>-1.554079</td>\n",
       "    </tr>\n",
       "    <tr>\n",
       "      <th>2</th>\n",
       "      <td>0</td>\n",
       "      <td>-0.676530</td>\n",
       "      <td>1.693100</td>\n",
       "      <td>1.559247</td>\n",
       "      <td>1.559983</td>\n",
       "      <td>-0.982179</td>\n",
       "      <td>-1.358507</td>\n",
       "      <td>-1.313994</td>\n",
       "      <td>-0.455067</td>\n",
       "      <td>0.295214</td>\n",
       "      <td>...</td>\n",
       "      <td>1.242968</td>\n",
       "      <td>1.230157</td>\n",
       "      <td>-2.038999</td>\n",
       "      <td>2.366093</td>\n",
       "      <td>0.820656</td>\n",
       "      <td>1.404501</td>\n",
       "      <td>0.176860</td>\n",
       "      <td>-0.086285</td>\n",
       "      <td>-0.390878</td>\n",
       "      <td>-0.089465</td>\n",
       "    </tr>\n",
       "    <tr>\n",
       "      <th>3</th>\n",
       "      <td>1</td>\n",
       "      <td>0.534396</td>\n",
       "      <td>1.677537</td>\n",
       "      <td>1.489030</td>\n",
       "      <td>0.778605</td>\n",
       "      <td>-0.183776</td>\n",
       "      <td>-1.116850</td>\n",
       "      <td>-1.487557</td>\n",
       "      <td>-0.579511</td>\n",
       "      <td>0.292683</td>\n",
       "      <td>...</td>\n",
       "      <td>0.559852</td>\n",
       "      <td>-0.593149</td>\n",
       "      <td>-4.440577</td>\n",
       "      <td>1.720705</td>\n",
       "      <td>-0.124617</td>\n",
       "      <td>-0.435880</td>\n",
       "      <td>0.228440</td>\n",
       "      <td>-0.893938</td>\n",
       "      <td>1.005879</td>\n",
       "      <td>-0.631247</td>\n",
       "    </tr>\n",
       "    <tr>\n",
       "      <th>4</th>\n",
       "      <td>0</td>\n",
       "      <td>-1.018903</td>\n",
       "      <td>0.511080</td>\n",
       "      <td>0.755641</td>\n",
       "      <td>1.013816</td>\n",
       "      <td>0.529899</td>\n",
       "      <td>0.160440</td>\n",
       "      <td>-0.087055</td>\n",
       "      <td>1.295290</td>\n",
       "      <td>0.458736</td>\n",
       "      <td>...</td>\n",
       "      <td>0.227110</td>\n",
       "      <td>0.497628</td>\n",
       "      <td>-0.083921</td>\n",
       "      <td>-0.382733</td>\n",
       "      <td>-0.913389</td>\n",
       "      <td>1.122928</td>\n",
       "      <td>0.834571</td>\n",
       "      <td>-0.283786</td>\n",
       "      <td>-2.860340</td>\n",
       "      <td>0.280871</td>\n",
       "    </tr>\n",
       "  </tbody>\n",
       "</table>\n",
       "<p>5 rows × 2001 columns</p>\n",
       "</div>"
      ],
      "text/plain": [
       "   0         1         2         3         4         5         6         7     \\\n",
       "0     0  2.080754  1.099069  0.927763  1.029081 -0.130763  1.265460 -0.436286   \n",
       "1     1  1.109457  0.786453  0.445560 -0.146323 -0.996316  0.555759  0.290734   \n",
       "2     0 -0.676530  1.693100  1.559247  1.559983 -0.982179 -1.358507 -1.313994   \n",
       "3     1  0.534396  1.677537  1.489030  0.778605 -0.183776 -1.116850 -1.487557   \n",
       "4     0 -1.018903  0.511080  0.755641  1.013816  0.529899  0.160440 -0.087055   \n",
       "\n",
       "       8         9       ...         1991      1992      1993      1994  \\\n",
       "0  0.728881  2.107979    ...    -0.825403 -0.138451  0.382957  0.876697   \n",
       "1 -0.145259  1.132660    ...    -1.056288 -0.205499 -1.815374  0.324373   \n",
       "2 -0.455067  0.295214    ...     1.242968  1.230157 -2.038999  2.366093   \n",
       "3 -0.579511  0.292683    ...     0.559852 -0.593149 -4.440577  1.720705   \n",
       "4  1.295290  0.458736    ...     0.227110  0.497628 -0.083921 -0.382733   \n",
       "\n",
       "       1995      1996      1997      1998      1999      2000  \n",
       "0 -0.216234 -1.408300  0.393327 -0.148522  1.591533 -0.217481  \n",
       "1 -1.296909 -0.870757  1.108739  1.094010 -0.492141 -1.554079  \n",
       "2  0.820656  1.404501  0.176860 -0.086285 -0.390878 -0.089465  \n",
       "3 -0.124617 -0.435880  0.228440 -0.893938  1.005879 -0.631247  \n",
       "4 -0.913389  1.122928  0.834571 -0.283786 -2.860340  0.280871  \n",
       "\n",
       "[5 rows x 2001 columns]"
      ]
     },
     "execution_count": 3,
     "metadata": {},
     "output_type": "execute_result"
    }
   ],
   "source": [
    "dataset.head(5)"
   ]
  },
  {
   "cell_type": "code",
   "execution_count": 6,
   "metadata": {
    "collapsed": false
   },
   "outputs": [
    {
     "name": "stderr",
     "output_type": "stream",
     "text": [
      "C:\\Users\\janic\\Anaconda3\\lib\\site-packages\\sklearn\\cross_validation.py:44: DeprecationWarning: This module was deprecated in version 0.18 in favor of the model_selection module into which all the refactored classes and functions are moved. Also note that the interface of the new CV iterators are different from that of this module. This module will be removed in 0.20.\n",
      "  \"This module will be removed in 0.20.\", DeprecationWarning)\n"
     ]
    }
   ],
   "source": [
    "import matplotlib.pyplot as plt\n",
    "from sklearn.svm import SVC\n",
    "from sklearn.model_selection import StratifiedKFold\n",
    "from sklearn.feature_selection import RFECV\n",
    "from sklearn.datasets import make_classification"
   ]
  },
  {
   "cell_type": "code",
   "execution_count": 15,
   "metadata": {
    "collapsed": false
   },
   "outputs": [],
   "source": [
    "from sklearn.cross_validation import train_test_split\n",
    "\n",
    "X = dataset.iloc[:,1:2001]\n",
    "Y = dataset.iloc[:,0]"
   ]
  },
  {
   "cell_type": "code",
   "execution_count": 31,
   "metadata": {
    "collapsed": true
   },
   "outputs": [],
   "source": [
    "X_train, X_test, y_train, y_test = \\\n",
    "        train_test_split(X, Y, test_size=0.30, random_state=1)"
   ]
  },
  {
   "cell_type": "code",
   "execution_count": 32,
   "metadata": {
    "collapsed": true
   },
   "outputs": [],
   "source": [
    "svc = SVC(kernel=\"linear\")"
   ]
  },
  {
   "cell_type": "code",
   "execution_count": 33,
   "metadata": {
    "collapsed": false
   },
   "outputs": [
    {
     "data": {
      "text/plain": [
       "RFECV(cv=StratifiedKFold(n_splits=5, random_state=None, shuffle=False),\n",
       "   estimator=SVC(C=1.0, cache_size=200, class_weight=None, coef0=0.0,\n",
       "  decision_function_shape=None, degree=3, gamma='auto', kernel='linear',\n",
       "  max_iter=-1, probability=False, random_state=None, shrinking=True,\n",
       "  tol=0.001, verbose=False),\n",
       "   n_jobs=1, scoring='accuracy', step=1, verbose=0)"
      ]
     },
     "execution_count": 33,
     "metadata": {},
     "output_type": "execute_result"
    }
   ],
   "source": [
    "rfecv = RFECV(estimator=svc, step=1, cv=StratifiedKFold(5),\n",
    "              scoring='accuracy')\n",
    "rfecv.fit(X_train, y_train)"
   ]
  },
  {
   "cell_type": "code",
   "execution_count": 34,
   "metadata": {
    "collapsed": false
   },
   "outputs": [
    {
     "name": "stdout",
     "output_type": "stream",
     "text": [
      "Optimal number of features : 2000\n"
     ]
    },
    {
     "data": {
      "image/png": "[encoded data removed]",
      "text/plain": [
       "<matplotlib.figure.Figure at 0x17a5aafc9b0>"
      ]
     },
     "metadata": {},
     "output_type": "display_data"
    }
   ],
   "source": [
    "print(\"Optimal number of features : %d\" % rfecv.n_features_)\n",
    "\n",
    "# Plot number of features VS. cross-validation scores\n",
    "plt.figure()\n",
    "plt.xlabel(\"Number of features selected\")\n",
    "plt.ylabel(\"Cross validation score (nb of correct classifications)\")\n",
    "plt.plot(range(1, len(rfecv.grid_scores_) + 1), rfecv.grid_scores_)\n",
    "plt.show()"
   ]
  },
  {
   "cell_type": "code",
   "execution_count": 35,
   "metadata": {
    "collapsed": false
   },
   "outputs": [
    {
     "name": "stdout",
     "output_type": "stream",
     "text": [
      "Test Accuracy: 0.579\n"
     ]
    }
   ],
   "source": [
    "from sklearn.preprocessing import StandardScaler\n",
    "from sklearn.decomposition import PCA\n",
    "from sklearn.svm import SVC\n",
    "from sklearn.pipeline import Pipeline\n",
    "import numpy as np\n",
    "\n",
    "pipe_svc = Pipeline([('scl', StandardScaler()),\n",
    "                    ('pca', PCA(n_components=2)),\n",
    "                    ('clf', SVC())])\n",
    "\n",
    "pipe_svc.fit(X_train, y_train)\n",
    "print('Test Accuracy: %.3f' % pipe_svc.score(X_test, y_test))\n",
    "y_pred = pipe_svc.predict(X_test)"
   ]
  },
  {
   "cell_type": "code",
   "execution_count": 36,
   "metadata": {
    "collapsed": false
   },
   "outputs": [
    {
     "name": "stdout",
     "output_type": "stream",
     "text": [
      "Train set size (43, 2000)\n",
      "Test set size (19, 2000)\n"
     ]
    }
   ],
   "source": [
    "print('Train set size %s' % (X_train.shape,))\n",
    "print('Test set size %s' % (X_test.shape,))"
   ]
  },
  {
   "cell_type": "code",
   "execution_count": null,
   "metadata": {
    "collapsed": true
   },
   "outputs": [],
   "source": []
  }
 ],
 "metadata": {
  "anaconda-cloud": {},
  "kernelspec": {
   "display_name": "Python [default]",
   "language": "python",
   "name": "python3"
  },
  "language_info": {
   "codemirror_mode": {
    "name": "ipython",
    "version": 3
   },
   "file_extension": ".py",
   "mimetype": "text/x-python",
   "name": "python",
   "nbconvert_exporter": "python",
   "pygments_lexer": "ipython3",
   "version": "3.5.2"
  }
 },
 "nbformat": 4,
 "nbformat_minor": 1
}
